{
 "cells": [
  {
   "cell_type": "code",
   "execution_count": null,
   "id": "c6d1d86a-434d-4443-b153-b39f9799a11e",
   "metadata": {},
   "outputs": [],
   "source": [
    "import math\n",
    "import numpy as np\n",
    "import matplotlib.pyplot as plt\n",
    "# Ensure Option is already defined\n",
    "# from option import Option  # Uncomment if running as a separate script\n",
    "\n",
    "class BinomialTree(Option):\n",
    "\n",
    "    def _setup_parameters_(self):\n",
    "        self.u = 1 + self.pu  \n",
    "        self.d = 1 - self.pd  \n",
    "        self.qu = (math.exp((self.r-self.div)*self.dt) -\n",
    "                   self.d)/(self.u-self.d)\n",
    "        self.qd = 1-self.qu\n",
    "\n",
    "    def _initialize_stock_price_tree_(self):\n",
    "        self.STs = [np.array([self.S0])]\n",
    "        for i in range(self.N):\n",
    "            prev_branches = self.STs[-1]\n",
    "            st = np.concatenate((prev_branches*self.u,\n",
    "                                 [prev_branches[-1]*self.d]))\n",
    "            self.STs.append(st)  \n",
    "\n",
    "    def _initialize_payoffs_tree_(self):\n",
    "        return np.maximum(\n",
    "            0, (self.STs[self.N]-self.K) if self.is_call\n",
    "            else (self.K-self.STs[self.N]))\n",
    "\n",
    "    def __check_early_exercise__(self, payoffs, node):\n",
    "        early_ex_payoff = (self.STs[node] - self.K) if self.is_call else (self.K - self.STs[node])\n",
    "        return np.maximum(payoffs, early_ex_payoff)\n",
    "\n",
    "    def _traverse_tree_(self, payoffs):\n",
    "        for i in reversed(range(self.N)):\n",
    "            payoffs = (payoffs[:-1] * self.qu +\n",
    "                      payoffs[1:] * self.qd) * self.df\n",
    "            if not self.is_european:\n",
    "                payoffs = self.__check_early_exercise__(payoffs, i)\n",
    "        return payoffs\n",
    "\n",
    "    def __begin_tree_traversal__(self):\n",
    "        payoffs = self._initialize_payoffs_tree_()\n",
    "        return self._traverse_tree_(payoffs)\n",
    "\n",
    "    def price(self):\n",
    "        self._setup_parameters_()\n",
    "        self._initialize_stock_price_tree_()\n",
    "        payoffs = self.__begin_tree_traversal__()\n",
    "        return payoffs[0]\n",
    "\n",
    "# Example usage\n",
    "if __name__ == \"__main__\":\n",
    "    am_option = BinomialTree(100, 80, 0.06, 0.5, 2, {\"pu\": 0.2, \"pd\": 0.2, \"is_call\": False, \"is_eu\": False})\n",
    "    print(\"Price of American option:\", am_option.price())\n"
   ]
  }
 ],
 "metadata": {
  "kernelspec": {
   "display_name": "Python 3 (ipykernel)",
   "language": "python",
   "name": "python3"
  },
  "language_info": {
   "codemirror_mode": {
    "name": "ipython",
    "version": 3
   },
   "file_extension": ".py",
   "mimetype": "text/x-python",
   "name": "python",
   "nbconvert_exporter": "python",
   "pygments_lexer": "ipython3",
   "version": "3.11.4"
  }
 },
 "nbformat": 4,
 "nbformat_minor": 5
}
