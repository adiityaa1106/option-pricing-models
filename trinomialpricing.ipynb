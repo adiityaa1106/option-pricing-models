{
 "cells": [
  {
   "cell_type": "code",
   "execution_count": null,
   "id": "64a8fdb0-c358-43ed-bd50-418cd08017eb",
   "metadata": {},
   "outputs": [],
   "source": [
    "import math\n",
    "import numpy as np\n",
    "# Ensure BinomialTree is already defined\n",
    "# from binomialpricing import BinomialTree  # Uncomment if running as a separate script\n",
    "\n",
    "class TrinomialTree(BinomialTree):\n",
    "\n",
    "    def _setup_parameters_(self):\n",
    "        self.u = math.exp(self.sigma*math.sqrt(2.*self.dt))\n",
    "        self.d = 1/self.u\n",
    "        self.m = 1\n",
    "        self.qu = ((math.exp((self.r-self.div) * self.dt/2.) -\n",
    "                    math.exp(-self.sigma * math.sqrt(self.dt/2.))) /\n",
    "                   (math.exp(self.sigma * math.sqrt(self.dt/2.)) -\n",
    "                    math.exp(-self.sigma * math.sqrt(self.dt/2.))))**2\n",
    "        self.qd = ((math.exp(self.sigma * math.sqrt(self.dt/2.)) -\n",
    "                    math.exp((self.r-self.div) * self.dt/2.)) /\n",
    "                   (math.exp(self.sigma * math.sqrt(self.dt/2.)) -\n",
    "                    math.exp(-self.sigma * math.sqrt(self.dt/2.))))**2\n",
    "        self.qm = 1 - self.qu - self.qd\n",
    "\n",
    "    def _initialize_stock_price_tree_(self):\n",
    "        self.STs = [np.array([self.S0])]\n",
    "        for i in range(self.N):\n",
    "            prev_nodes = self.STs[-1]\n",
    "            self.ST = np.concatenate(\n",
    "                (prev_nodes*self.u, [prev_nodes[-1]*self.m,\n",
    "                                     prev_nodes[-1]*self.d]))\n",
    "            self.STs.append(self.ST)\n",
    "\n",
    "    def _traverse_tree_(self, payoffs):\n",
    "        for i in reversed(range(self.N)):\n",
    "            payoffs = (payoffs[:-2] * self.qu +\n",
    "                       payoffs[1:-1] * self.qm +\n",
    "                       payoffs[2:] * self.qd) * self.df\n",
    "            if not self.is_european:\n",
    "                payoffs = self.__check_early_exercise__(payoffs, i)\n",
    "        return payoffs\n",
    "\n",
    "# Example usage\n",
    "if __name__ == \"__main__\":\n",
    "    print(\"Price of European put:\", TrinomialTree(100, 80, 0.06, 0.5, 2, {\"sigma\": 0.3, \"is_call\": False}).price())\n",
    "    print(\"Price of American put:\", TrinomialTree(100, 80, 0.06, 0.5, 2, {\"sigma\": 0.3, \"is_call\": False, \"is_eu\": False}).price())\n"
   ]
  },
  {
   "cell_type": "code",
   "execution_count": null,
   "id": "7085bd78-47e7-4010-b6e7-1e8a297fb0d2",
   "metadata": {},
   "outputs": [],
   "source": [
    "# Test Binomial Tree Model\n",
    "am_option_binomial = BinomialTree(100, 80, 0.06, 0.5, 2, {\"pu\": 0.2, \"pd\": 0.2, \"is_call\": False, \"is_eu\": False})\n",
    "print(\"Price of American option using Binomial Tree:\", am_option_binomial.price())\n",
    "\n",
    "# Test Trinomial Tree Model\n",
    "eu_put_trinomial = TrinomialTree(100, 80, 0.06, 0.5, 2, {\"sigma\": 0.3, \"is_call\": False})\n",
    "am_put_trinomial = TrinomialTree(100, 80, 0.06, 0.5, 2, {\"sigma\": 0.3, \"is_call\": False, \"is_eu\": False})\n",
    "\n",
    "print(\"Price of European put using Trinomial Tree:\", eu_put_trinomial.price())\n",
    "print(\"Price of American put using Trinomial Tree:\", am_put_trinomial.price())"
   ]
  }
 ],
 "metadata": {
  "kernelspec": {
   "display_name": "Python 3 (ipykernel)",
   "language": "python",
   "name": "python3"
  },
  "language_info": {
   "codemirror_mode": {
    "name": "ipython",
    "version": 3
   },
   "file_extension": ".py",
   "mimetype": "text/x-python",
   "name": "python",
   "nbconvert_exporter": "python",
   "pygments_lexer": "ipython3",
   "version": "3.11.4"
  }
 },
 "nbformat": 4,
 "nbformat_minor": 5
}
