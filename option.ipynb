{
 "cells": [
  {
   "cell_type": "code",
   "execution_count": 2,
   "id": "f925722e-dd12-4054-8978-1620e21e9e1c",
   "metadata": {},
   "outputs": [],
   "source": [
    "import math\n",
    "import numpy as np\n",
    "import matplotlib.pyplot as plt\n",
    "\n",
    "class Option(object):\n",
    "    def __init__(self, S0, K, r, T, N, params):\n",
    "        self.S0 = S0 \n",
    "        self.K = K\n",
    "        self.r = r\n",
    "        self.T = T\n",
    "        self.N = max(1, N) \n",
    "        self.STs = None  # Stock Price Tree\n",
    "\n",
    "        # These parameters will be inherited to BinomialPricing and trinomialpricing codes\n",
    "        self.pu = params.get(\"pu\", 0)  # Up state probability \n",
    "        self.pd = params.get(\"pd\", 0)  # Down state prob\n",
    "        self.div = params.get(\"div\", 0)  # Dividend yield\n",
    "        self.sigma = params.get(\"sigma\", 0)  # Volatility\n",
    "        self.is_call = params.get(\"is_call\", True)  # Type of option(call or put)\n",
    "        self.is_european = params.get(\"is_eu\", True)  # Type of option(European or American)\n",
    "\n",
    "        self.dt = T/float(N)  # time steps\n",
    "        self.df = math.exp(-(r-self.div) * self.dt)  # Discount factor\n"
   ]
  }
 ],
 "metadata": {
  "kernelspec": {
   "display_name": "Python 3 (ipykernel)",
   "language": "python",
   "name": "python3"
  },
  "language_info": {
   "codemirror_mode": {
    "name": "ipython",
    "version": 3
   },
   "file_extension": ".py",
   "mimetype": "text/x-python",
   "name": "python",
   "nbconvert_exporter": "python",
   "pygments_lexer": "ipython3",
   "version": "3.11.4"
  }
 },
 "nbformat": 4,
 "nbformat_minor": 5
}
